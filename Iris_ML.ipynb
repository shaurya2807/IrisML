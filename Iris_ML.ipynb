{
  "nbformat": 4,
  "nbformat_minor": 0,
  "metadata": {
    "colab": {
      "name": "Iris ML.ipynb",
      "provenance": [],
      "collapsed_sections": [],
      "authorship_tag": "ABX9TyNffeDiVgyZBiu5f3SwRlWs",
      "include_colab_link": true
    },
    "kernelspec": {
      "name": "python3",
      "display_name": "Python 3"
    },
    "language_info": {
      "name": "python"
    }
  },
  "cells": [
    {
      "cell_type": "markdown",
      "metadata": {
        "id": "view-in-github",
        "colab_type": "text"
      },
      "source": [
        "<a href=\"https://colab.research.google.com/github/shaurya2807/IrisML/blob/main/Iris_ML.ipynb\" target=\"_parent\"><img src=\"https://colab.research.google.com/assets/colab-badge.svg\" alt=\"Open In Colab\"/></a>"
      ]
    },
    {
      "cell_type": "code",
      "metadata": {
        "colab": {
          "base_uri": "https://localhost:8080/"
        },
        "id": "KCCCauTWp5Tt",
        "outputId": "0d1b83b7-3d05-4052-f420-79cbe6e5fda1"
      },
      "source": [
        "!pip install streamlit --quiet\n",
        "!pip install pyngrok==4.1.1 --quiet\n",
        "from pyngrok import ngrok"
      ],
      "execution_count": 1,
      "outputs": [
        {
          "output_type": "stream",
          "name": "stdout",
          "text": [
            "\u001b[K     |████████████████████████████████| 9.1 MB 5.4 MB/s \n",
            "\u001b[K     |████████████████████████████████| 178 kB 49.9 MB/s \n",
            "\u001b[K     |████████████████████████████████| 4.3 MB 22.7 MB/s \n",
            "\u001b[K     |████████████████████████████████| 76 kB 5.1 MB/s \n",
            "\u001b[K     |████████████████████████████████| 180 kB 62.8 MB/s \n",
            "\u001b[K     |████████████████████████████████| 111 kB 61.6 MB/s \n",
            "\u001b[K     |████████████████████████████████| 63 kB 1.7 MB/s \n",
            "\u001b[K     |████████████████████████████████| 125 kB 51.8 MB/s \n",
            "\u001b[K     |████████████████████████████████| 791 kB 45.1 MB/s \n",
            "\u001b[K     |████████████████████████████████| 374 kB 65.0 MB/s \n",
            "\u001b[?25h  Building wheel for pympler (setup.py) ... \u001b[?25l\u001b[?25hdone\n",
            "  Building wheel for blinker (setup.py) ... \u001b[?25l\u001b[?25hdone\n",
            "\u001b[31mERROR: pip's dependency resolver does not currently take into account all the packages that are installed. This behaviour is the source of the following dependency conflicts.\n",
            "jupyter-console 5.2.0 requires prompt-toolkit<2.0.0,>=1.0.0, but you have prompt-toolkit 3.0.23 which is incompatible.\n",
            "google-colab 1.0.0 requires ipykernel~=4.10, but you have ipykernel 6.5.1 which is incompatible.\n",
            "google-colab 1.0.0 requires ipython~=5.5.0, but you have ipython 7.30.0 which is incompatible.\u001b[0m\n",
            "  Building wheel for pyngrok (setup.py) ... \u001b[?25l\u001b[?25hdone\n"
          ]
        }
      ]
    },
    {
      "cell_type": "code",
      "metadata": {
        "colab": {
          "base_uri": "https://localhost:8080/"
        },
        "id": "egciSq3dqA9i",
        "outputId": "02abd0b5-021c-440a-af19-589d404f95e9"
      },
      "source": [
        "%%writefile app.py\n",
        "import streamlit as st\n",
        "st.title('Iris Machine Learning')\n",
        "from sklearn.datasets import load_iris\n",
        "iris = load_iris()\n",
        "from sklearn.tree import DecisionTreeClassifier\n",
        "model = DecisionTreeClassifier()\n",
        "model.fit(iris.data, iris.target) #Training the model\n",
        "sl=st.slider('Sepal Length', 4.3, 7.5, 5.0)\n",
        "sw=st.slider('Sepal Length', 2.0, 4.4, 4.2)\n",
        "pl=st.slider('Sepal Length', 1.0, 6.9 , 5.0)\n",
        "pw=st.slider('Sepal Length', 0.1, 2.5, 0.5)\n",
        "op = model.predict([[sl, sw, pl, pw]])\n",
        "res = iris.target_names[op[0]]\n",
        "st.title(res.upper())\n"
      ],
      "execution_count": 6,
      "outputs": [
        {
          "output_type": "stream",
          "name": "stdout",
          "text": [
            "Overwriting app.py\n"
          ]
        }
      ]
    },
    {
      "cell_type": "code",
      "metadata": {
        "colab": {
          "base_uri": "https://localhost:8080/"
        },
        "id": "Jmpkec_vqE93",
        "outputId": "896d51a2-4f19-45db-8d4f-a6c6c4161b9b"
      },
      "source": [
        "!nohup streamlit run app.py &\n",
        "url = ngrok.connect(port = '8501')\n",
        "print(url)"
      ],
      "execution_count": 3,
      "outputs": [
        {
          "output_type": "stream",
          "name": "stdout",
          "text": [
            "nohup: appending output to 'nohup.out'\n",
            "http://298a-35-196-243-35.ngrok.io\n"
          ]
        }
      ]
    }
  ]
}